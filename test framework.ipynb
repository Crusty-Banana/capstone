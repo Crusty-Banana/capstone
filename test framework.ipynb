{
 "cells": [
  {
   "cell_type": "code",
   "execution_count": 8,
   "metadata": {},
   "outputs": [],
   "source": [
    "import os\n",
    "import soundfile as sf\n",
    "from pydub import AudioSegment\n",
    "from google.cloud import speech, texttospeech\n",
    "from transformers import GPT2LMHeadModel, GPT2Tokenizer\n",
    "from helpers import read_audio_file, transcribe_audio, process_with_llm, convert_text_to_speech\n",
    "import torch    "
   ]
  },
  {
   "cell_type": "code",
   "execution_count": 9,
   "metadata": {},
   "outputs": [
    {
     "name": "stdout",
     "output_type": "stream",
     "text": [
      "True\n"
     ]
    }
   ],
   "source": [
    "print(torch.cuda.is_available())"
   ]
  },
  {
   "cell_type": "code",
   "execution_count": 10,
   "metadata": {},
   "outputs": [],
   "source": [
    "# Initializeed GOOGLE API Client\n",
    "os.environ[\"GOOGLE_APPLICATION_CREDENTIALS\"] = \"serviceAcc.json\"\n",
    "speech_client = speech.SpeechClient()\n",
    "tts_client = texttospeech.TextToSpeechClient()\n",
    "\n",
    "# Initialized LLM\n",
    "device = \"cuda\"\n",
    "llm_name = \"gpt2\"\n",
    "tokenizer = GPT2Tokenizer.from_pretrained(llm_name, device=device)\n",
    "llm = GPT2LMHeadModel.from_pretrained(llm_name).to(device)"
   ]
  },
  {
   "cell_type": "code",
   "execution_count": 11,
   "metadata": {},
   "outputs": [],
   "source": [
    "# File paths\n",
    "input_audio_file = \"HelloWorld.wav\"\n",
    "output_audio_file = \"output_audio/\" "
   ]
  },
  {
   "cell_type": "code",
   "execution_count": 12,
   "metadata": {},
   "outputs": [
    {
     "name": "stdout",
     "output_type": "stream",
     "text": [
      "Transcribed text: hello world\n"
     ]
    }
   ],
   "source": [
    "# Read and transcribe audio\n",
    "# wav_audio_path = read_audio_file(input_audio_file)\n",
    "transcript = transcribe_audio(input_audio_file, speech_client)\n",
    "print(f\"Transcribed text: {transcript}\")"
   ]
  },
  {
   "cell_type": "code",
   "execution_count": 13,
   "metadata": {},
   "outputs": [
    {
     "name": "stderr",
     "output_type": "stream",
     "text": [
      "The attention mask and the pad token id were not set. As a consequence, you may observe unexpected behavior. Please pass your input's `attention_mask` to obtain reliable results.\n",
      "Setting `pad_token_id` to `eos_token_id`:None for open-end generation.\n"
     ]
    },
    {
     "name": "stdout",
     "output_type": "stream",
     "text": [
      "Processed text: hello world\" to find out what kind of job she wants to get ahead. But, that's exactly what this summer's world tour with U2 began to prove.\n",
      "\n",
      "The Grammy-winning trio will take the stage for \"Fantastic\n"
     ]
    }
   ],
   "source": [
    "# Process transcribed text with local LLM\n",
    "transcript_tokens = tokenizer.encode(transcript, return_tensors='pt').to(device)\n",
    "processed_text_tokens = process_with_llm(transcript_tokens, llm, device)\n",
    "processed_text = tokenizer.decode(processed_text_tokens[0], skip_special_tokens=True)\n",
    "print(f\"Processed text: {processed_text}\")"
   ]
  },
  {
   "cell_type": "code",
   "execution_count": 14,
   "metadata": {},
   "outputs": [
    {
     "name": "stdout",
     "output_type": "stream",
     "text": [
      "Audio content written to file output_audio/1.wav\n",
      "Audio content written to file output_audio/2.wav\n",
      "Audio content written to file output_audio/3.wav\n"
     ]
    },
    {
     "name": "stdout",
     "output_type": "stream",
     "text": [
      "Audio content written to file output_audio/4.wav\n",
      "Audio content written to file output_audio/5.wav\n",
      "Audio content written to file output_audio/6.wav\n",
      "Audio content written to file output_audio/7.wav\n",
      "Audio content written to file output_audio/8.wav\n",
      "Audio content written to file output_audio/9.wav\n",
      "Audio content written to file output_audio/10.wav\n",
      "Audio content written to file output_audio/11.wav\n",
      "Audio content written to file output_audio/12.wav\n",
      "Audio content written to file output_audio/13.wav\n",
      "Audio content written to file output_audio/14.wav\n",
      "Audio content written to file output_audio/15.wav\n",
      "Audio content written to file output_audio/16.wav\n",
      "Audio content written to file output_audio/17.wav\n",
      "Audio content written to file output_audio/18.wav\n",
      "Audio content written to file output_audio/19.wav\n",
      "Audio content written to file output_audio/20.wav\n",
      "Audio content written to file output_audio/21.wav\n",
      "Audio content written to file output_audio/22.wav\n",
      "Audio content written to file output_audio/23.wav\n",
      "Audio content written to file output_audio/24.wav\n",
      "Audio content written to file output_audio/25.wav\n",
      "Audio content written to file output_audio/26.wav\n",
      "Audio content written to file output_audio/27.wav\n",
      "Audio content written to file output_audio/28.wav\n",
      "Audio content written to file output_audio/29.wav\n",
      "Audio content written to file output_audio/30.wav\n",
      "Audio content written to file output_audio/31.wav\n",
      "Audio content written to file output_audio/32.wav\n",
      "Audio content written to file output_audio/33.wav\n",
      "Audio content written to file output_audio/34.wav\n",
      "Audio content written to file output_audio/35.wav\n"
     ]
    }
   ],
   "source": [
    "# Convert processed text back to audio\n",
    "i = 0\n",
    "for text in processed_text.split(\" \"):\n",
    "    i += 1\n",
    "    output_audio_path = output_audio_file + str(i) +\".wav\"\n",
    "    convert_text_to_speech(text, output_audio_path, tts_client, device)"
   ]
  }
 ],
 "metadata": {
  "kernelspec": {
   "display_name": "Python 3",
   "language": "python",
   "name": "python3"
  },
  "language_info": {
   "codemirror_mode": {
    "name": "ipython",
    "version": 3
   },
   "file_extension": ".py",
   "mimetype": "text/x-python",
   "name": "python",
   "nbconvert_exporter": "python",
   "pygments_lexer": "ipython3",
   "version": "3.8.10"
  }
 },
 "nbformat": 4,
 "nbformat_minor": 2
}
